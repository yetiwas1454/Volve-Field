{
 "cells": [
  {
   "cell_type": "code",
   "execution_count": 22,
   "id": "9bdc602d-185d-4de4-b8bb-7c53962473a3",
   "metadata": {},
   "outputs": [
    {
     "name": "stdout",
     "output_type": "stream",
     "text": [
      "Requirement already satisfied: pandas in c:\\users\\pande\\pycharmprojects\\sample_project_1\\env\\lib\\site-packages (2.1.4)\n",
      "Collecting fbprophet\n",
      "  Using cached fbprophet-0.7.1.tar.gz (64 kB)\n",
      "  Preparing metadata (setup.py): started\n",
      "  Preparing metadata (setup.py): finished with status 'done'\n",
      "Requirement already satisfied: numpy<2,>=1.26.0 in c:\\users\\pande\\pycharmprojects\\sample_project_1\\env\\lib\\site-packages (from pandas) (1.26.3)\n",
      "Requirement already satisfied: python-dateutil>=2.8.2 in c:\\users\\pande\\pycharmprojects\\sample_project_1\\env\\lib\\site-packages (from pandas) (2.8.2)\n",
      "Requirement already satisfied: pytz>=2020.1 in c:\\users\\pande\\pycharmprojects\\sample_project_1\\env\\lib\\site-packages (from pandas) (2023.3.post1)\n",
      "Requirement already satisfied: tzdata>=2022.1 in c:\\users\\pande\\pycharmprojects\\sample_project_1\\env\\lib\\site-packages (from pandas) (2023.3)\n",
      "Collecting Cython>=0.22 (from fbprophet)\n",
      "  Using cached Cython-3.0.10-cp312-cp312-win_amd64.whl.metadata (3.2 kB)\n",
      "Collecting cmdstanpy==0.9.5 (from fbprophet)\n",
      "  Using cached cmdstanpy-0.9.5-py3-none-any.whl.metadata (2.9 kB)\n",
      "Collecting pystan>=2.14 (from fbprophet)\n",
      "  Using cached pystan-3.10.0-py3-none-any.whl.metadata (3.7 kB)\n",
      "Requirement already satisfied: matplotlib>=2.0.0 in c:\\users\\pande\\pycharmprojects\\sample_project_1\\env\\lib\\site-packages (from fbprophet) (3.8.0)\n",
      "Collecting LunarCalendar>=0.0.9 (from fbprophet)\n",
      "  Using cached LunarCalendar-0.0.9-py2.py3-none-any.whl.metadata (6.3 kB)\n",
      "Collecting convertdate>=2.1.2 (from fbprophet)\n",
      "  Using cached convertdate-2.4.0-py3-none-any.whl.metadata (8.3 kB)\n",
      "Collecting holidays>=0.10.2 (from fbprophet)\n",
      "  Using cached holidays-0.53-py3-none-any.whl.metadata (23 kB)\n",
      "Collecting setuptools-git>=1.2 (from fbprophet)\n",
      "  Using cached setuptools_git-1.2-py2.py3-none-any.whl.metadata (5.8 kB)\n",
      "Collecting tqdm>=4.36.1 (from fbprophet)\n",
      "  Using cached tqdm-4.66.4-py3-none-any.whl.metadata (57 kB)\n",
      "Collecting pymeeus<=1,>=0.3.13 (from convertdate>=2.1.2->fbprophet)\n",
      "  Using cached PyMeeus-0.5.12-py3-none-any.whl\n",
      "Collecting ephem>=3.7.5.3 (from LunarCalendar>=0.0.9->fbprophet)\n",
      "  Using cached ephem-4.1.5-cp312-cp312-win_amd64.whl.metadata (6.1 kB)\n",
      "Requirement already satisfied: contourpy>=1.0.1 in c:\\users\\pande\\pycharmprojects\\sample_project_1\\env\\lib\\site-packages (from matplotlib>=2.0.0->fbprophet) (1.2.0)\n",
      "Requirement already satisfied: cycler>=0.10 in c:\\users\\pande\\pycharmprojects\\sample_project_1\\env\\lib\\site-packages (from matplotlib>=2.0.0->fbprophet) (0.11.0)\n",
      "Requirement already satisfied: fonttools>=4.22.0 in c:\\users\\pande\\pycharmprojects\\sample_project_1\\env\\lib\\site-packages (from matplotlib>=2.0.0->fbprophet) (4.25.0)\n",
      "Requirement already satisfied: kiwisolver>=1.0.1 in c:\\users\\pande\\pycharmprojects\\sample_project_1\\env\\lib\\site-packages (from matplotlib>=2.0.0->fbprophet) (1.4.4)\n",
      "Requirement already satisfied: packaging>=20.0 in c:\\users\\pande\\pycharmprojects\\sample_project_1\\env\\lib\\site-packages (from matplotlib>=2.0.0->fbprophet) (23.1)\n",
      "Requirement already satisfied: pillow>=6.2.0 in c:\\users\\pande\\pycharmprojects\\sample_project_1\\env\\lib\\site-packages (from matplotlib>=2.0.0->fbprophet) (10.0.1)\n",
      "Requirement already satisfied: pyparsing>=2.3.1 in c:\\users\\pande\\pycharmprojects\\sample_project_1\\env\\lib\\site-packages (from matplotlib>=2.0.0->fbprophet) (3.0.9)\n",
      "Collecting aiohttp<4.0,>=3.6 (from pystan>=2.14->fbprophet)\n",
      "  Using cached aiohttp-3.9.5-cp312-cp312-win_amd64.whl.metadata (7.7 kB)\n",
      "Collecting clikit<0.7,>=0.6 (from pystan>=2.14->fbprophet)\n",
      "  Using cached clikit-0.6.2-py2.py3-none-any.whl.metadata (1.6 kB)\n",
      "INFO: pip is looking at multiple versions of pystan to determine which version is compatible with other requirements. This could take a while.\n",
      "Collecting pystan>=2.14 (from fbprophet)\n",
      "  Using cached pystan-3.9.1-py3-none-any.whl.metadata (3.7 kB)\n",
      "  Using cached pystan-3.9.0-py3-none-any.whl.metadata (3.7 kB)\n",
      "  Using cached pystan-3.8.0-py3-none-any.whl.metadata (3.8 kB)\n",
      "  Using cached pystan-3.7.0-py3-none-any.whl.metadata (3.7 kB)\n",
      "  Using cached pystan-3.6.0-py3-none-any.whl.metadata (3.7 kB)\n",
      "  Using cached pystan-3.5.0-py3-none-any.whl.metadata (3.7 kB)\n",
      "  Using cached pystan-3.4.0-py3-none-any.whl.metadata (3.7 kB)\n",
      "INFO: pip is still looking at multiple versions of pystan to determine which version is compatible with other requirements. This could take a while.\n",
      "  Using cached pystan-3.3.0-py3-none-any.whl.metadata (3.6 kB)\n",
      "  Using cached pystan-3.2.0-py3-none-any.whl.metadata (3.6 kB)\n",
      "  Using cached pystan-3.1.1-py3-none-any.whl.metadata (3.6 kB)\n",
      "  Using cached pystan-3.1.0-py3-none-any.whl.metadata (3.6 kB)\n",
      "  Using cached pystan-3.0.2-py3-none-any.whl.metadata (3.6 kB)\n",
      "INFO: This is taking longer than usual. You might need to provide the dependency resolver with stricter constraints to reduce runtime. See https://pip.pypa.io/warnings/backtracking for guidance. If you want to abort this run, press Ctrl + C.\n",
      "  Using cached pystan-3.0.1-py3-none-any.whl.metadata (3.6 kB)\n",
      "  Using cached pystan-3.0.0-py3-none-any.whl.metadata (3.6 kB)\n",
      "  Using cached pystan-2.19.1.1.tar.gz (16.2 MB)\n",
      "  Preparing metadata (setup.py): started\n",
      "  Preparing metadata (setup.py): finished with status 'error'\n",
      "Note: you may need to restart the kernel to use updated packages.\n"
     ]
    },
    {
     "name": "stderr",
     "output_type": "stream",
     "text": [
      "  error: subprocess-exited-with-error\n",
      "  \n",
      "  python setup.py egg_info did not run successfully.\n",
      "  exit code: 1\n",
      "  \n",
      "  [6 lines of output]\n",
      "  Traceback (most recent call last):\n",
      "    File \"<string>\", line 2, in <module>\n",
      "    File \"<pip-setuptools-caller>\", line 34, in <module>\n",
      "    File \"C:\\Users\\pande\\AppData\\Local\\Temp\\pip-install-dan6bdjr\\pystan_81437003d3cc4af2b7a21484bad866dd\\setup.py\", line 122, in <module>\n",
      "      from Cython.Build.Inline import _get_build_extension\n",
      "  ModuleNotFoundError: No module named 'Cython'\n",
      "  [end of output]\n",
      "  \n",
      "  note: This error originates from a subprocess, and is likely not a problem with pip.\n",
      "error: metadata-generation-failed\n",
      "\n",
      "Encountered error while generating package metadata.\n",
      "\n",
      "See above for output.\n",
      "\n",
      "note: This is an issue with the package mentioned above, not pip.\n",
      "hint: See above for details.\n"
     ]
    }
   ],
   "source": [
    "pip install pandas fbprophet\n"
   ]
  },
  {
   "cell_type": "code",
   "execution_count": 1,
   "id": "83614a18-1f79-4364-8abb-5b075a24f6fb",
   "metadata": {},
   "outputs": [
    {
     "name": "stdout",
     "output_type": "stream",
     "text": [
      "  WELL_BORE_CODE       Date  Production Rate\n",
      "0  NO 15/9-F-1 C 2014-04-07              0.0\n",
      "1  NO 15/9-F-1 C 2014-04-08              0.0\n",
      "2  NO 15/9-F-1 C 2014-04-09              0.0\n",
      "3  NO 15/9-F-1 C 2014-04-10              0.0\n",
      "4  NO 15/9-F-1 C 2014-04-11              0.0\n"
     ]
    }
   ],
   "source": [
    "import pandas as pd\n",
    "\n",
    "# Load the data\n",
    "excel_path = 'Volve prophet.xlsx'\n",
    "df = pd.read_excel(excel_path, sheet_name='Sheet1')  # Replace 'Sheet1' with your actual sheet name\n",
    "\n",
    "# Display the first few rows of the dataframe\n",
    "print(df.head())\n"
   ]
  },
  {
   "cell_type": "code",
   "execution_count": 2,
   "id": "c6451599-1d5b-4bba-aad2-ccfe60197133",
   "metadata": {},
   "outputs": [
    {
     "name": "stdout",
     "output_type": "stream",
     "text": [
      "  WELL_BORE_CODE         ds    y\n",
      "0  NO 15/9-F-1 C 2014-04-07  0.0\n",
      "1  NO 15/9-F-1 C 2014-04-08  0.0\n",
      "2  NO 15/9-F-1 C 2014-04-09  0.0\n",
      "3  NO 15/9-F-1 C 2014-04-10  0.0\n",
      "4  NO 15/9-F-1 C 2014-04-11  0.0\n"
     ]
    }
   ],
   "source": [
    "# Rename columns to match Prophet's expectations\n",
    "df.rename(columns={'Date': 'ds', 'Production Rate': 'y'}, inplace=True)\n",
    "\n",
    "# Ensure the date column is in datetime format\n",
    "df['ds'] = pd.to_datetime(df['ds'])\n",
    "\n",
    "# Display the first few rows to verify the changes\n",
    "print(df.head())\n"
   ]
  },
  {
   "cell_type": "code",
   "execution_count": 3,
   "id": "9716b73e-b2b4-4cd5-94da-e5fc52c31ffb",
   "metadata": {},
   "outputs": [
    {
     "ename": "ModuleNotFoundError",
     "evalue": "No module named 'Prophet'",
     "output_type": "error",
     "traceback": [
      "\u001b[1;31m---------------------------------------------------------------------------\u001b[0m",
      "\u001b[1;31mModuleNotFoundError\u001b[0m                       Traceback (most recent call last)",
      "Cell \u001b[1;32mIn[3], line 1\u001b[0m\n\u001b[1;32m----> 1\u001b[0m \u001b[38;5;28;01mfrom\u001b[39;00m \u001b[38;5;21;01mProphet\u001b[39;00m \u001b[38;5;28;01mimport\u001b[39;00m Prophet\n\u001b[0;32m      3\u001b[0m \u001b[38;5;66;03m# Initialize the model\u001b[39;00m\n\u001b[0;32m      4\u001b[0m model \u001b[38;5;241m=\u001b[39m Prophet()\n",
      "\u001b[1;31mModuleNotFoundError\u001b[0m: No module named 'Prophet'"
     ]
    }
   ],
   "source": [
    "from Prophet import Prophet\n",
    "\n",
    "# Initialize the model\n",
    "model = Prophet()\n",
    "\n",
    "# Fit the model to the data\n",
    "model.fit(df)\n"
   ]
  },
  {
   "cell_type": "code",
   "execution_count": 7,
   "id": "86a5eee7-e5a4-4095-a6e8-0b493b3ae415",
   "metadata": {},
   "outputs": [
    {
     "name": "stdout",
     "output_type": "stream",
     "text": [
      "             ds         yhat   yhat_lower   yhat_upper\n",
      "1106 2017-04-17   309.825996 -1326.470816  1746.299171\n",
      "1107 2017-04-18   562.432957 -1037.091937  2208.969354\n",
      "1108 2017-04-19   744.442384  -723.346378  2264.103292\n",
      "1109 2017-04-20   969.888145  -514.010852  2500.987591\n",
      "1110 2017-04-21  1133.722289  -334.701087  2684.228986\n"
     ]
    }
   ],
   "source": [
    "# Create a dataframe for future dates (e.g., next 365 days)\n",
    "future_dates = model.make_future_dataframe(periods=365)\n",
    "\n",
    "# Make predictions\n",
    "forecast = model.predict(future_dates)\n",
    "\n",
    "# Display the forecast\n",
    "print(forecast[['ds', 'yhat', 'yhat_lower', 'yhat_upper']].tail())\n"
   ]
  },
  {
   "cell_type": "code",
   "execution_count": 9,
   "id": "0e2edeef-7bab-41ed-92cc-9a463cd4ad2e",
   "metadata": {},
   "outputs": [
    {
     "name": "stderr",
     "output_type": "stream",
     "text": [
      "13:05:13 - cmdstanpy - INFO - Chain [1] start processing\n",
      "13:05:13 - cmdstanpy - INFO - Chain [1] done processing\n"
     ]
    },
    {
     "name": "stdout",
     "output_type": "stream",
     "text": [
      "             ds         yhat   yhat_lower   yhat_upper\n",
      "1106 2017-04-17   309.825996 -1195.387748  1918.556348\n",
      "1107 2017-04-18   562.432957  -814.376947  2055.068803\n",
      "1108 2017-04-19   744.442384  -710.076949  2154.980416\n",
      "1109 2017-04-20   969.888145  -574.383366  2479.198168\n",
      "1110 2017-04-21  1133.722289  -325.090228  2586.969679\n"
     ]
    }
   ],
   "source": [
    "import pandas as pd\n",
    "\n",
    "\n",
    "# Load the data\n",
    "excel_path = 'Volve prophet.xlsx'\n",
    "df = pd.read_excel(excel_path, sheet_name='Sheet1')  # Replace 'Sheet1' with your actual sheet name\n",
    "\n",
    "# Preprocess the data\n",
    "df.rename(columns={'Date': 'ds', 'Production Rate': 'y'}, inplace=True)\n",
    "df['ds'] = pd.to_datetime(df['ds'])\n",
    "\n",
    "# Initialize and fit the model\n",
    "model = Prophet()\n",
    "model.fit(df)\n",
    "\n",
    "# Create a dataframe for future dates\n",
    "future_dates = model.make_future_dataframe(periods=365)\n",
    "\n",
    "# Make predictions\n",
    "forecast = model.predict(future_dates)\n",
    "\n",
    "# Display the forecast\n",
    "print(forecast[['ds', 'yhat', 'yhat_lower', 'yhat_upper']].tail())\n"
   ]
  },
  {
   "cell_type": "code",
   "execution_count": null,
   "id": "7e2c0b28-18d5-4e45-9c0d-26b2dd2be991",
   "metadata": {},
   "outputs": [],
   "source": []
  },
  {
   "cell_type": "code",
   "execution_count": null,
   "id": "9f48f6f9-c0cc-474e-80a4-dcdb4faa3184",
   "metadata": {},
   "outputs": [],
   "source": []
  },
  {
   "cell_type": "code",
   "execution_count": null,
   "id": "75910433-00b4-4537-9acc-ecc83bac6402",
   "metadata": {},
   "outputs": [],
   "source": []
  },
  {
   "cell_type": "code",
   "execution_count": 2,
   "id": "54ef344f-e5ad-4edf-86c5-b3b8a7c1ec7a",
   "metadata": {},
   "outputs": [
    {
     "name": "stdout",
     "output_type": "stream",
     "text": [
      "Collecting statsmodels\n",
      "  Downloading statsmodels-0.14.2-cp312-cp312-win_amd64.whl.metadata (9.5 kB)\n",
      "Requirement already satisfied: numpy>=1.22.3 in c:\\users\\pande\\pycharmprojects\\sample_project_1\\env\\lib\\site-packages (from statsmodels) (1.26.3)\n",
      "Requirement already satisfied: scipy!=1.9.2,>=1.8 in c:\\users\\pande\\pycharmprojects\\sample_project_1\\env\\lib\\site-packages (from statsmodels) (1.11.3)\n",
      "Requirement already satisfied: pandas!=2.1.0,>=1.4 in c:\\users\\pande\\pycharmprojects\\sample_project_1\\env\\lib\\site-packages (from statsmodels) (2.1.4)\n",
      "Collecting patsy>=0.5.6 (from statsmodels)\n",
      "  Downloading patsy-0.5.6-py2.py3-none-any.whl.metadata (3.5 kB)\n",
      "Requirement already satisfied: packaging>=21.3 in c:\\users\\pande\\pycharmprojects\\sample_project_1\\env\\lib\\site-packages (from statsmodels) (23.1)\n",
      "Requirement already satisfied: python-dateutil>=2.8.2 in c:\\users\\pande\\pycharmprojects\\sample_project_1\\env\\lib\\site-packages (from pandas!=2.1.0,>=1.4->statsmodels) (2.8.2)\n",
      "Requirement already satisfied: pytz>=2020.1 in c:\\users\\pande\\pycharmprojects\\sample_project_1\\env\\lib\\site-packages (from pandas!=2.1.0,>=1.4->statsmodels) (2023.3.post1)\n",
      "Requirement already satisfied: tzdata>=2022.1 in c:\\users\\pande\\pycharmprojects\\sample_project_1\\env\\lib\\site-packages (from pandas!=2.1.0,>=1.4->statsmodels) (2023.3)\n",
      "Requirement already satisfied: six in c:\\users\\pande\\pycharmprojects\\sample_project_1\\env\\lib\\site-packages (from patsy>=0.5.6->statsmodels) (1.16.0)\n",
      "Downloading statsmodels-0.14.2-cp312-cp312-win_amd64.whl (9.8 MB)\n",
      "   ---------------------------------------- 0.0/9.8 MB ? eta -:--:--\n",
      "   ---------------------------------------- 0.0/9.8 MB ? eta -:--:--\n",
      "   ---------------------------------------- 0.0/9.8 MB ? eta -:--:--\n",
      "   ---------------------------------------- 0.0/9.8 MB ? eta -:--:--\n",
      "   ---------------------------------------- 0.1/9.8 MB 469.7 kB/s eta 0:00:21\n",
      "   ---------------------------------------- 0.1/9.8 MB 469.7 kB/s eta 0:00:21\n",
      "   - -------------------------------------- 0.4/9.8 MB 1.8 MB/s eta 0:00:06\n",
      "   --- ------------------------------------ 0.8/9.8 MB 3.1 MB/s eta 0:00:03\n",
      "   ---- ----------------------------------- 1.0/9.8 MB 3.2 MB/s eta 0:00:03\n",
      "   ---- ----------------------------------- 1.2/9.8 MB 3.3 MB/s eta 0:00:03\n",
      "   ----- ---------------------------------- 1.3/9.8 MB 3.4 MB/s eta 0:00:03\n",
      "   ----- ---------------------------------- 1.3/9.8 MB 3.4 MB/s eta 0:00:03\n",
      "   ----- ---------------------------------- 1.3/9.8 MB 3.4 MB/s eta 0:00:03\n",
      "   ------ --------------------------------- 1.5/9.8 MB 2.8 MB/s eta 0:00:03\n",
      "   ------- -------------------------------- 1.8/9.8 MB 3.0 MB/s eta 0:00:03\n",
      "   ------- -------------------------------- 1.8/9.8 MB 2.9 MB/s eta 0:00:03\n",
      "   ------- -------------------------------- 1.8/9.8 MB 2.9 MB/s eta 0:00:03\n",
      "   ------- -------------------------------- 1.9/9.8 MB 2.6 MB/s eta 0:00:03\n",
      "   --------- ------------------------------ 2.2/9.8 MB 2.8 MB/s eta 0:00:03\n",
      "   --------- ------------------------------ 2.4/9.8 MB 2.8 MB/s eta 0:00:03\n",
      "   ---------- ----------------------------- 2.5/9.8 MB 2.9 MB/s eta 0:00:03\n",
      "   ----------- ---------------------------- 2.7/9.8 MB 2.9 MB/s eta 0:00:03\n",
      "   ----------- ---------------------------- 2.8/9.8 MB 2.9 MB/s eta 0:00:03\n",
      "   ------------ --------------------------- 3.0/9.8 MB 3.0 MB/s eta 0:00:03\n",
      "   ------------ --------------------------- 3.1/9.8 MB 3.0 MB/s eta 0:00:03\n",
      "   ------------- -------------------------- 3.3/9.8 MB 3.0 MB/s eta 0:00:03\n",
      "   -------------- ------------------------- 3.5/9.8 MB 3.0 MB/s eta 0:00:03\n",
      "   -------------- ------------------------- 3.7/9.8 MB 3.1 MB/s eta 0:00:02\n",
      "   --------------- ------------------------ 3.8/9.8 MB 3.1 MB/s eta 0:00:02\n",
      "   ---------------- ----------------------- 3.9/9.8 MB 3.1 MB/s eta 0:00:02\n",
      "   ---------------- ----------------------- 4.1/9.8 MB 3.0 MB/s eta 0:00:02\n",
      "   ----------------- ---------------------- 4.3/9.8 MB 3.1 MB/s eta 0:00:02\n",
      "   ------------------ --------------------- 4.5/9.8 MB 3.1 MB/s eta 0:00:02\n",
      "   ------------------ --------------------- 4.6/9.8 MB 3.1 MB/s eta 0:00:02\n",
      "   ------------------- -------------------- 4.8/9.8 MB 3.1 MB/s eta 0:00:02\n",
      "   -------------------- ------------------- 4.9/9.8 MB 3.2 MB/s eta 0:00:02\n",
      "   -------------------- ------------------- 5.1/9.8 MB 3.1 MB/s eta 0:00:02\n",
      "   --------------------- ------------------ 5.3/9.8 MB 3.2 MB/s eta 0:00:02\n",
      "   ---------------------- ----------------- 5.5/9.8 MB 3.2 MB/s eta 0:00:02\n",
      "   ---------------------- ----------------- 5.6/9.8 MB 3.2 MB/s eta 0:00:02\n",
      "   ----------------------- ---------------- 5.8/9.8 MB 3.2 MB/s eta 0:00:02\n",
      "   ------------------------ --------------- 5.9/9.8 MB 3.2 MB/s eta 0:00:02\n",
      "   ------------------------ --------------- 6.1/9.8 MB 3.2 MB/s eta 0:00:02\n",
      "   ------------------------- -------------- 6.3/9.8 MB 3.2 MB/s eta 0:00:02\n",
      "   -------------------------- ------------- 6.5/9.8 MB 3.2 MB/s eta 0:00:02\n",
      "   -------------------------- ------------- 6.6/9.8 MB 3.2 MB/s eta 0:00:02\n",
      "   --------------------------- ------------ 6.7/9.8 MB 3.2 MB/s eta 0:00:01\n",
      "   --------------------------- ------------ 6.9/9.8 MB 3.2 MB/s eta 0:00:01\n",
      "   ---------------------------- ----------- 7.0/9.8 MB 3.2 MB/s eta 0:00:01\n",
      "   ----------------------------- ---------- 7.2/9.8 MB 3.3 MB/s eta 0:00:01\n",
      "   ------------------------------ --------- 7.4/9.8 MB 3.3 MB/s eta 0:00:01\n",
      "   ------------------------------ --------- 7.5/9.8 MB 3.2 MB/s eta 0:00:01\n",
      "   ------------------------------- -------- 7.7/9.8 MB 3.3 MB/s eta 0:00:01\n",
      "   ------------------------------- -------- 7.9/9.8 MB 3.2 MB/s eta 0:00:01\n",
      "   -------------------------------- ------- 8.0/9.8 MB 3.3 MB/s eta 0:00:01\n",
      "   --------------------------------- ------ 8.3/9.8 MB 3.3 MB/s eta 0:00:01\n",
      "   ---------------------------------- ----- 8.4/9.8 MB 3.3 MB/s eta 0:00:01\n",
      "   ---------------------------------- ----- 8.6/9.8 MB 3.3 MB/s eta 0:00:01\n",
      "   ----------------------------------- ---- 8.7/9.8 MB 3.3 MB/s eta 0:00:01\n",
      "   ------------------------------------ --- 8.9/9.8 MB 3.3 MB/s eta 0:00:01\n",
      "   ------------------------------------ --- 9.1/9.8 MB 3.3 MB/s eta 0:00:01\n",
      "   ------------------------------------- -- 9.3/9.8 MB 3.3 MB/s eta 0:00:01\n",
      "   -------------------------------------- - 9.4/9.8 MB 3.3 MB/s eta 0:00:01\n",
      "   -------------------------------------- - 9.5/9.8 MB 3.3 MB/s eta 0:00:01\n",
      "   ---------------------------------------  9.7/9.8 MB 3.3 MB/s eta 0:00:01\n",
      "   ---------------------------------------  9.8/9.8 MB 3.3 MB/s eta 0:00:01\n",
      "   ---------------------------------------- 9.8/9.8 MB 3.2 MB/s eta 0:00:00\n",
      "Downloading patsy-0.5.6-py2.py3-none-any.whl (233 kB)\n",
      "   ---------------------------------------- 0.0/233.9 kB ? eta -:--:--\n",
      "   --------------------------------------- 233.9/233.9 kB 14.9 MB/s eta 0:00:00\n",
      "Installing collected packages: patsy, statsmodels\n",
      "Successfully installed patsy-0.5.6 statsmodels-0.14.2\n",
      "Note: you may need to restart the kernel to use updated packages.\n"
     ]
    }
   ],
   "source": [
    "pip install statsmodels\n"
   ]
  },
  {
   "cell_type": "code",
   "execution_count": 5,
   "id": "bccbfbbb-8fbb-4b48-b77c-3cb337f339fb",
   "metadata": {},
   "outputs": [
    {
     "name": "stderr",
     "output_type": "stream",
     "text": [
      "WARNING: Skipping fbprophet as it is not installed.\n"
     ]
    },
    {
     "name": "stdout",
     "output_type": "stream",
     "text": [
      "Collecting prophet\n",
      "  Using cached prophet-1.1.5-py3-none-win_amd64.whl.metadata (3.6 kB)\n",
      "Collecting cmdstanpy>=1.0.4 (from prophet)\n",
      "  Using cached cmdstanpy-1.2.4-py3-none-any.whl.metadata (4.1 kB)\n",
      "Requirement already satisfied: numpy>=1.15.4 in c:\\users\\pande\\pycharmprojects\\sample_project_1\\env\\lib\\site-packages (from prophet) (1.26.3)\n",
      "Requirement already satisfied: matplotlib>=2.0.0 in c:\\users\\pande\\pycharmprojects\\sample_project_1\\env\\lib\\site-packages (from prophet) (3.8.0)\n",
      "Requirement already satisfied: pandas>=1.0.4 in c:\\users\\pande\\pycharmprojects\\sample_project_1\\env\\lib\\site-packages (from prophet) (2.1.4)\n",
      "Collecting holidays>=0.25 (from prophet)\n",
      "  Using cached holidays-0.53-py3-none-any.whl.metadata (23 kB)\n",
      "Collecting tqdm>=4.36.1 (from prophet)\n",
      "  Using cached tqdm-4.66.4-py3-none-any.whl.metadata (57 kB)\n",
      "Collecting importlib-resources (from prophet)\n",
      "  Using cached importlib_resources-6.4.0-py3-none-any.whl.metadata (3.9 kB)\n",
      "Collecting stanio<2.0.0,>=0.4.0 (from cmdstanpy>=1.0.4->prophet)\n",
      "  Using cached stanio-0.5.1-py3-none-any.whl.metadata (1.6 kB)\n",
      "Requirement already satisfied: python-dateutil in c:\\users\\pande\\pycharmprojects\\sample_project_1\\env\\lib\\site-packages (from holidays>=0.25->prophet) (2.8.2)\n",
      "Requirement already satisfied: contourpy>=1.0.1 in c:\\users\\pande\\pycharmprojects\\sample_project_1\\env\\lib\\site-packages (from matplotlib>=2.0.0->prophet) (1.2.0)\n",
      "Requirement already satisfied: cycler>=0.10 in c:\\users\\pande\\pycharmprojects\\sample_project_1\\env\\lib\\site-packages (from matplotlib>=2.0.0->prophet) (0.11.0)\n",
      "Requirement already satisfied: fonttools>=4.22.0 in c:\\users\\pande\\pycharmprojects\\sample_project_1\\env\\lib\\site-packages (from matplotlib>=2.0.0->prophet) (4.25.0)\n",
      "Requirement already satisfied: kiwisolver>=1.0.1 in c:\\users\\pande\\pycharmprojects\\sample_project_1\\env\\lib\\site-packages (from matplotlib>=2.0.0->prophet) (1.4.4)\n",
      "Requirement already satisfied: packaging>=20.0 in c:\\users\\pande\\pycharmprojects\\sample_project_1\\env\\lib\\site-packages (from matplotlib>=2.0.0->prophet) (23.1)\n",
      "Requirement already satisfied: pillow>=6.2.0 in c:\\users\\pande\\pycharmprojects\\sample_project_1\\env\\lib\\site-packages (from matplotlib>=2.0.0->prophet) (10.0.1)\n",
      "Requirement already satisfied: pyparsing>=2.3.1 in c:\\users\\pande\\pycharmprojects\\sample_project_1\\env\\lib\\site-packages (from matplotlib>=2.0.0->prophet) (3.0.9)\n",
      "Requirement already satisfied: pytz>=2020.1 in c:\\users\\pande\\pycharmprojects\\sample_project_1\\env\\lib\\site-packages (from pandas>=1.0.4->prophet) (2023.3.post1)\n",
      "Requirement already satisfied: tzdata>=2022.1 in c:\\users\\pande\\pycharmprojects\\sample_project_1\\env\\lib\\site-packages (from pandas>=1.0.4->prophet) (2023.3)\n",
      "Requirement already satisfied: colorama in c:\\users\\pande\\pycharmprojects\\sample_project_1\\env\\lib\\site-packages (from tqdm>=4.36.1->prophet) (0.4.6)\n",
      "Requirement already satisfied: six>=1.5 in c:\\users\\pande\\pycharmprojects\\sample_project_1\\env\\lib\\site-packages (from python-dateutil->holidays>=0.25->prophet) (1.16.0)\n",
      "Using cached prophet-1.1.5-py3-none-win_amd64.whl (13.3 MB)\n",
      "Using cached cmdstanpy-1.2.4-py3-none-any.whl (94 kB)\n",
      "Using cached holidays-0.53-py3-none-any.whl (1.0 MB)\n",
      "Using cached tqdm-4.66.4-py3-none-any.whl (78 kB)\n",
      "Using cached importlib_resources-6.4.0-py3-none-any.whl (38 kB)\n",
      "Using cached stanio-0.5.1-py3-none-any.whl (8.1 kB)\n",
      "Installing collected packages: tqdm, stanio, importlib-resources, holidays, cmdstanpy, prophet\n",
      "Successfully installed cmdstanpy-1.2.4 holidays-0.53 importlib-resources-6.4.0 prophet-1.1.5 stanio-0.5.1 tqdm-4.66.4\n"
     ]
    },
    {
     "name": "stderr",
     "output_type": "stream",
     "text": [
      "Importing plotly failed. Interactive plots will not work.\n"
     ]
    },
    {
     "name": "stdout",
     "output_type": "stream",
     "text": [
      "1.1.5\n"
     ]
    }
   ],
   "source": [
    "# Uninstall fbprophet if installed\n",
    "!pip uninstall -y fbprophet\n",
    "\n",
    "# Install the new prophet package\n",
    "!pip install prophet\n",
    "\n",
    "from prophet import Prophet\n",
    "import prophet\n",
    "print(prophet.__version__)\n"
   ]
  },
  {
   "cell_type": "code",
   "execution_count": 6,
   "id": "e2c37df1-60a3-4577-8db9-22dd8f0a64f9",
   "metadata": {},
   "outputs": [
    {
     "name": "stdout",
     "output_type": "stream",
     "text": [
      "  WELL_BORE_CODE       Date  Production Rate\n",
      "0  NO 15/9-F-1 C 2014-04-07              0.0\n",
      "1  NO 15/9-F-1 C 2014-04-08              0.0\n",
      "2  NO 15/9-F-1 C 2014-04-09              0.0\n",
      "3  NO 15/9-F-1 C 2014-04-10              0.0\n",
      "4  NO 15/9-F-1 C 2014-04-11              0.0\n",
      "  WELL_BORE_CODE         ds    y\n",
      "0  NO 15/9-F-1 C 2014-04-07  0.0\n",
      "1  NO 15/9-F-1 C 2014-04-08  0.0\n",
      "2  NO 15/9-F-1 C 2014-04-09  0.0\n",
      "3  NO 15/9-F-1 C 2014-04-10  0.0\n",
      "4  NO 15/9-F-1 C 2014-04-11  0.0\n"
     ]
    },
    {
     "name": "stderr",
     "output_type": "stream",
     "text": [
      "13:04:09 - cmdstanpy - INFO - Chain [1] start processing\n",
      "13:04:09 - cmdstanpy - INFO - Chain [1] done processing\n"
     ]
    },
    {
     "data": {
      "text/plain": [
       "<prophet.forecaster.Prophet at 0x228ca481340>"
      ]
     },
     "execution_count": 6,
     "metadata": {},
     "output_type": "execute_result"
    }
   ],
   "source": [
    "import pandas as pd\n",
    "from prophet import Prophet\n",
    "\n",
    "# Load the data\n",
    "excel_path = 'Volve prophet.xlsx'\n",
    "df = pd.read_excel(excel_path, sheet_name='Sheet1')  # Replace 'Sheet1' with your actual sheet name\n",
    "\n",
    "# Display the first few rows of the dataframe\n",
    "print(df.head())\n",
    "\n",
    "# Rename columns to match Prophet's expectations\n",
    "df.rename(columns={'Date': 'ds', 'Production Rate': 'y'}, inplace=True)\n",
    "\n",
    "# Ensure the date column is in datetime format\n",
    "df['ds'] = pd.to_datetime(df['ds'])\n",
    "\n",
    "# Display the first few rows to verify the changes\n",
    "print(df.head())\n",
    "\n",
    "# Initialize the model\n",
    "model = Prophet()\n",
    "\n",
    "# Fit the model to the data\n",
    "model.fit(df)\n"
   ]
  },
  {
   "cell_type": "code",
   "execution_count": null,
   "id": "1c465887-8a29-4a45-93fb-4de9452acde4",
   "metadata": {},
   "outputs": [],
   "source": []
  }
 ],
 "metadata": {
  "kernelspec": {
   "display_name": "Python 3 (ipykernel)",
   "language": "python",
   "name": "python3"
  },
  "language_info": {
   "codemirror_mode": {
    "name": "ipython",
    "version": 3
   },
   "file_extension": ".py",
   "mimetype": "text/x-python",
   "name": "python",
   "nbconvert_exporter": "python",
   "pygments_lexer": "ipython3",
   "version": "3.12.0"
  }
 },
 "nbformat": 4,
 "nbformat_minor": 5
}
